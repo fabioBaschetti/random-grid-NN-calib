{
 "cells": [
  {
   "cell_type": "code",
   "execution_count": 1,
   "id": "07a54c8e-cdd5-453e-a90d-e8571c00b0e3",
   "metadata": {},
   "outputs": [],
   "source": [
    "import numpy as np\n",
    "import scipy\n",
    "import pandas as pd\n",
    "\n",
    "import copy\n",
    "\n",
    "import random\n",
    "\n",
    "from sklearn.model_selection import train_test_split\n",
    "\n",
    "import keras\n",
    "from keras.layers import Activation\n",
    "from keras import backend as K\n",
    "keras.backend.set_floatx('float64')\n",
    "from keras.callbacks import EarlyStopping\n",
    "\n",
    "import matplotlib.pyplot as plt"
   ]
  },
  {
   "cell_type": "code",
   "execution_count": null,
   "id": "79fb2e24-63a4-4c7a-ba91-96795b736fa1",
   "metadata": {},
   "outputs": [],
   "source": []
  },
  {
   "cell_type": "markdown",
   "id": "d9a938b3-13fd-4907-ad78-e2ae9f8ec7f9",
   "metadata": {},
   "source": [
    "## definitions and dimensions"
   ]
  },
  {
   "cell_type": "code",
   "execution_count": 2,
   "id": "622876db-51ac-4921-b16d-7d66d7142f32",
   "metadata": {},
   "outputs": [],
   "source": [
    "spot = 1.0\n",
    "\n",
    "model_stoch = 'rHeston'\n",
    "fwdvar = 'pwc'\n",
    "\n",
    "N_params_fvc = 8\n",
    "N_params_mdl = 3\n",
    "\n",
    "N_params = N_params_fvc + N_params_mdl\n",
    "\n",
    "N_times      = 11\n",
    "N_strikes    = 13\n",
    "\n",
    "N_ivols = N_times*N_strikes"
   ]
  },
  {
   "cell_type": "code",
   "execution_count": null,
   "id": "d1a9ea01-a125-4150-9c76-2bedf870f499",
   "metadata": {},
   "outputs": [],
   "source": []
  },
  {
   "cell_type": "markdown",
   "id": "6f198719-fe97-4647-ba41-b02aa6faee9d",
   "metadata": {},
   "source": [
    "## import/organize training data "
   ]
  },
  {
   "cell_type": "markdown",
   "id": "3e65b96f-69e4-4bed-bfeb-a2d513950212",
   "metadata": {},
   "source": [
    "the entire dataset is available upon request. We provide both rHeston and/or rBergomi sample data with different specifications of the forward variance curve as explained in the text"
   ]
  },
  {
   "cell_type": "markdown",
   "id": "87db3f2f-24b6-4043-b960-258bad30ee8e",
   "metadata": {},
   "source": [
    "the following code snippet performs necessary preprocessing of the input data (i.e. random grids) to a form that can be used in a pointwise approach"
   ]
  },
  {
   "cell_type": "raw",
   "id": "2ca050bd-af61-4c74-b3ab-88d4c0149e3a",
   "metadata": {},
   "source": [
    "data_rnd = np.loadtxt(model_stoch+'_samples_'+fwdvar+'_rndGrid.txt', dtype=float)\n",
    "    \n",
    "data = []\n",
    "for row in data_rnd:\n",
    "    params = [el for el in row[:N_params]]\n",
    "    times = row[N_params:N_params+N_times]\n",
    "    for i in range(N_times):\n",
    "        strikes = row[N_params+N_times+i*N_strikes:N_params+N_times+(i+1)*N_strikes]\n",
    "        ivols = row[N_params+N_times+N_ivols+i*N_strikes:N_params+N_times+N_ivols+(i+1)*N_strikes]\n",
    "        for j in range(N_strikes):\n",
    "            line = copy.deepcopy(params)\n",
    "            line.append(times[i])\n",
    "            line.append(strikes[j])\n",
    "            line.append(ivols[j])\n",
    "            data.append(line)\n",
    "data = np.array(data)"
   ]
  },
  {
   "cell_type": "markdown",
   "id": "6c3daa90-0ff6-4836-babe-e8b7461c8e38",
   "metadata": {},
   "source": [
    "we share a simple .csv file for the reader to understand what the (final) data structure is like"
   ]
  },
  {
   "cell_type": "raw",
   "id": "c4a006c4-12e5-401b-b09a-bd070aecd2db",
   "metadata": {},
   "source": [
    "df = pd.DataFrame(data[0:2*N_ivols],columns=['fvc1', 'fvc2', 'fvc3', 'fvc4', 'fvc5', 'fvc6', 'fvc7', 'fvc8', 'H', 'nu', 'rho', 'T', 'K', 'imp_vol'])\n",
    "\n",
    "df.to_csv('sampleData.csv', index=False)"
   ]
  },
  {
   "cell_type": "code",
   "execution_count": null,
   "id": "ff2e9aba-223c-4ea9-9ebe-eecdd45383bc",
   "metadata": {},
   "outputs": [],
   "source": []
  },
  {
   "cell_type": "markdown",
   "id": "6544fbef-d72a-4f80-9ff8-4c82aba1bb26",
   "metadata": {},
   "source": [
    "## split data into train and test"
   ]
  },
  {
   "cell_type": "code",
   "execution_count": 3,
   "id": "f5b17782-27dc-4607-8768-e9f23bec2b40",
   "metadata": {},
   "outputs": [],
   "source": [
    "N_params_TKinc = N_params + 1 + 1"
   ]
  },
  {
   "cell_type": "raw",
   "id": "785b42f4-534f-45fb-999b-188c29b9699a",
   "metadata": {},
   "source": [
    "N_combs = 130000\n",
    "data = data[:N_combs*N_times*N_strikes]\n",
    "\n",
    "params = data[:, :N_params_TKinc]\n",
    "i_vols = data[:, N_params_TKinc:]\n",
    "\n",
    "x_train, x_test, y_train, y_test = train_test_split(i_vols, params, test_size=0.15, random_state=46)"
   ]
  },
  {
   "cell_type": "code",
   "execution_count": null,
   "id": "608b4584-d38e-419b-8632-a0fc09cc2b03",
   "metadata": {},
   "outputs": [],
   "source": []
  },
  {
   "cell_type": "markdown",
   "id": "19821f88-8b96-4f89-a22a-5958960581ac",
   "metadata": {},
   "source": [
    "## build the neural network"
   ]
  },
  {
   "cell_type": "code",
   "execution_count": 4,
   "id": "05855ed8-aa8d-4ec3-bb38-85ed47d31d0a",
   "metadata": {},
   "outputs": [
    {
     "name": "stdout",
     "output_type": "stream",
     "text": [
      "Model: \"model\"\n",
      "_________________________________________________________________\n",
      " Layer (type)                Output Shape              Param #   \n",
      "=================================================================\n",
      " input_1 (InputLayer)        [(None, 13)]              0         \n",
      "                                                                 \n",
      " dense (Dense)               (None, 64)                896       \n",
      "                                                                 \n",
      " dense_1 (Dense)             (None, 64)                4160      \n",
      "                                                                 \n",
      " dense_2 (Dense)             (None, 64)                4160      \n",
      "                                                                 \n",
      " dense_3 (Dense)             (None, 64)                4160      \n",
      "                                                                 \n",
      " dense_4 (Dense)             (None, 64)                4160      \n",
      "                                                                 \n",
      " dense_5 (Dense)             (None, 1)                 65        \n",
      "                                                                 \n",
      "=================================================================\n",
      "Total params: 17,601\n",
      "Trainable params: 17,601\n",
      "Non-trainable params: 0\n",
      "_________________________________________________________________\n"
     ]
    }
   ],
   "source": [
    "N_hiddenLayers = 4\n",
    "N_nodes = 64\n",
    "i = keras.layers.Input(shape=(N_params_TKinc, ))\n",
    "x = keras.layers.Dense(N_nodes, activation='elu')(i)\n",
    "c = 0\n",
    "while c < N_hiddenLayers:\n",
    "    x = keras.layers.Dense(N_nodes, activation='elu')(x)\n",
    "    c += 1\n",
    "x = keras.layers.Dense(1, activation='linear')(x)\n",
    "\n",
    "model = keras.models.Model(inputs=i, outputs=x)\n",
    "model.summary()"
   ]
  },
  {
   "cell_type": "markdown",
   "id": "dac4d784-2078-4c81-9620-82b9223f8892",
   "metadata": {},
   "source": [
    "## fit the model"
   ]
  },
  {
   "cell_type": "code",
   "execution_count": 5,
   "id": "00a10334-667d-4333-84f0-70a9617b8186",
   "metadata": {},
   "outputs": [],
   "source": [
    "N_epochs = 500\n",
    "patience = 50\n",
    "earlystop = EarlyStopping(monitor=\"val_loss\",\n",
    "                          min_delta=0,\n",
    "                          mode=\"min\",\n",
    "                          verbose=1,\n",
    "                          patience=patience)\n",
    " \n",
    "def RMSE(y, y_hat):\n",
    "    return K.sqrt(K.mean(K.square(y_hat - y)))\n",
    "\n",
    "model.compile(loss = RMSE, optimizer = \"adam\")"
   ]
  },
  {
   "cell_type": "markdown",
   "id": "72088214-b468-4961-9d18-bd4064bee278",
   "metadata": {},
   "source": [
    "no need to train (very slow) ..."
   ]
  },
  {
   "cell_type": "raw",
   "id": "2d1e9905-c592-44fd-82fb-fe2e3d4ff5e1",
   "metadata": {},
   "source": [
    "model.fit(y_train, x_train, batch_size=N_times*N_strikes*17, validation_data=(y_test, x_test), epochs=N_epochs, \n",
    "          verbose=True, shuffle=1, callbacks=[earlystop])                     "
   ]
  },
  {
   "cell_type": "markdown",
   "id": "291a4ea6-826c-46ea-8fa1-5c4fff99f078",
   "metadata": {},
   "source": [
    "## load optimal neural network weights "
   ]
  },
  {
   "cell_type": "markdown",
   "id": "bb71adb1-7a7b-476a-bb75-2d916b5466d4",
   "metadata": {},
   "source": [
    "... we provide the resulting neural network weights in a .h5 file"
   ]
  },
  {
   "cell_type": "code",
   "execution_count": 6,
   "id": "ef143c13-b8aa-48af-8fc0-4ccb729f1333",
   "metadata": {},
   "outputs": [],
   "source": [
    "model.load_weights(model_stoch+'NNWeights_pntwise_'+fwdvar+'.h5')\n",
    "\n",
    "NNWeights = []\n",
    "for i in range(1, len(model.layers)):\n",
    "    NNWeights.append(model.layers[i].get_weights())"
   ]
  },
  {
   "cell_type": "code",
   "execution_count": null,
   "id": "57c573dc-74f6-433b-9db6-c32790578856",
   "metadata": {},
   "outputs": [],
   "source": []
  },
  {
   "cell_type": "markdown",
   "id": "b326890c-830c-4cad-8d9f-0f6366e77382",
   "metadata": {},
   "source": [
    "## hardcode the neural network in numpy"
   ]
  },
  {
   "cell_type": "code",
   "execution_count": 7,
   "id": "a0f2174c-fd07-4bb9-be3c-09d19b47d6ab",
   "metadata": {},
   "outputs": [],
   "source": [
    "N_layers = N_hiddenLayers + 1\n",
    "\n",
    "def elu(x):\n",
    "    ind = (x<0)\n",
    "    x[ind] = np.exp(x[ind])-1\n",
    "    return x\n",
    "\n",
    "def eluPrime(x):\n",
    "    y = np.copy(x)\n",
    "    ind = (y<0)\n",
    "    y[ind] = np.exp(y[ind])\n",
    "    y[~ind] = 1\n",
    "    return y\n",
    "\n",
    "def NNFun(params, T, K):\n",
    "    N = len(T)\n",
    "    PARAMS = np.array(N*[params])\n",
    "    input1 = np.c_[PARAMS, T, K]  \n",
    "    for i in range(N_layers):\n",
    "        input1 = np.dot(input1, NNWeights[i][0]) + NNWeights[i][1]\n",
    "        input1 = elu(input1)\n",
    "    i += 1\n",
    "    X = np.dot(input1, NNWeights[i][0]) + NNWeights[i][1]\n",
    "    X = [el[0] for el in X]\n",
    "    X = np.array(X)\n",
    "    return X\n",
    "\n",
    "def NNGrad(params, T, K):\n",
    "    N = len(T)\n",
    "    PARAMS = np.array(N*[params])\n",
    "    input1 = np.c_[PARAMS, T, K] \n",
    "    # k = 0\n",
    "    input1 = np.dot(input1, NNWeights[0][0]) + NNWeights[0][1]\n",
    "    grad = np.ndarray(shape=(N, N_params_TKinc, N_nodes))\n",
    "    for j in range(N):\n",
    "        grad[j] = NNWeights[0][0]\n",
    "    eP = eluPrime(input1)\n",
    "    grad *= eP[:, None, :]\n",
    "    input1 = elu(input1)\n",
    "    # \n",
    "    for k in range(1,N_layers):\n",
    "        input1 = np.dot(input1, NNWeights[k][0])\n",
    "        input1 += NNWeights[k][1]\n",
    "        for n in range(N):\n",
    "            grad[n] = np.dot(grad[n], NNWeights[k][0])\n",
    "        eP = eluPrime(input1)\n",
    "        grad *= eP[:, None, :]\n",
    "        input1 = elu(input1)\n",
    "    grad = np.einsum('Nij,jk->Nik', grad, NNWeights[k+1][0])\n",
    "    grad = grad[:,:N_params].reshape(N, N_params).T\n",
    "    return grad"
   ]
  },
  {
   "cell_type": "code",
   "execution_count": null,
   "id": "1209ea04-ec95-481b-9e14-80a28a011f71",
   "metadata": {},
   "outputs": [],
   "source": []
  },
  {
   "cell_type": "markdown",
   "id": "b096fbc7-39a7-47d4-82da-d224a2421d26",
   "metadata": {},
   "source": [
    "## define the objective function and its gradient for calibration"
   ]
  },
  {
   "cell_type": "code",
   "execution_count": 8,
   "id": "4a4a3bb8-ff03-4eb6-9c16-7e59e1fedeac",
   "metadata": {},
   "outputs": [],
   "source": [
    "def CostFunc(params, T, K, target):\n",
    "    return (NNFun(params, T, K)-target)\n",
    "def Jacobian(params, T, K):\n",
    "    return NNGrad(params, T, K).T"
   ]
  },
  {
   "cell_type": "markdown",
   "id": "9a371e11-ecea-4caa-84ef-8da3e778d80a",
   "metadata": {},
   "source": [
    "### box constraints on the parameters and initial guess:"
   ]
  },
  {
   "cell_type": "code",
   "execution_count": 9,
   "id": "df46c803-7c1b-4e86-bd9c-04d44a130a5b",
   "metadata": {},
   "outputs": [],
   "source": [
    "bounds = ([0.005, 0.005, 0.005, 0.005, 0.005, 0.005, 0.005, 0.005, 0.010, 0.150, -.950], \n",
    "          [0.160, 0.160, 0.160, 0.160, 0.160, 0.160, 0.160, 0.160, 0.250, 0.650, -.500])\n",
    "init = 0.5*(np.array(bounds[0])+np.array(bounds[1]))"
   ]
  },
  {
   "cell_type": "code",
   "execution_count": null,
   "id": "15a2df77-b0f9-40f5-b265-c3de2a07e03f",
   "metadata": {},
   "outputs": [],
   "source": []
  },
  {
   "cell_type": "markdown",
   "id": "381b8f6e-abe2-4a5e-98c9-7c035457f5ec",
   "metadata": {},
   "source": [
    "## import/organize test data "
   ]
  },
  {
   "cell_type": "code",
   "execution_count": 10,
   "id": "3da88955-bfad-4233-90a5-3700bccf4682",
   "metadata": {},
   "outputs": [],
   "source": [
    "data_rnd_out = np.loadtxt(model_stoch+'_samples_'+fwdvar+'_rndGrid_outof.txt', dtype=float)\n",
    "\n",
    "data_test = []\n",
    "for row in data_rnd_out:\n",
    "    params = [el for el in row[:N_params]]\n",
    "    times = row[N_params:N_params+N_times]\n",
    "    for i in range(N_times):\n",
    "        strikes = row[N_params+N_times+i*N_strikes:N_params+N_times+(i+1)*N_strikes]\n",
    "        ivols = row[N_params+N_times+N_ivols+i*N_strikes:N_params+N_times+N_ivols+(i+1)*N_strikes]\n",
    "        for j in range(N_strikes):\n",
    "            line = copy.deepcopy(params)\n",
    "            line.append(times[i])\n",
    "            line.append(strikes[j])\n",
    "            line.append(ivols[j])\n",
    "            data_test.append(line)\n",
    "data_test = np.array(data_test)"
   ]
  },
  {
   "cell_type": "code",
   "execution_count": 11,
   "id": "12b7c447-0065-420d-b1ef-4de30b7e6568",
   "metadata": {},
   "outputs": [],
   "source": [
    "idx = 0\n",
    "volsurf = data_rnd_out[idx]\n",
    "params_true = volsurf[:N_params]\n",
    "maturities = volsurf[N_params:N_params+N_times]\n",
    "T = []\n",
    "for maturity in maturities:\n",
    "    T.extend(N_strikes*[maturity])\n",
    "K = volsurf[N_params+N_times:N_params+N_times+N_times*N_strikes]\n",
    "v = volsurf[N_params+N_times+N_times*N_strikes:]\n",
    "strikes = []\n",
    "imp_vol = []\n",
    "for i in range(N_times):\n",
    "    strikes.append((K[i*N_strikes:(i+1)*N_strikes]).tolist())\n",
    "    imp_vol.append((v[i*N_strikes:(i+1)*N_strikes]).tolist())\n",
    "strikes = np.array(strikes)\n",
    "imp_vol = np.array(imp_vol)"
   ]
  },
  {
   "cell_type": "markdown",
   "id": "8a801d81-564e-4ec2-b173-fedc4f0423a1",
   "metadata": {},
   "source": [
    "## calibrate to synthetic data in a controlled environment"
   ]
  },
  {
   "cell_type": "code",
   "execution_count": 12,
   "id": "ab733574-ff51-4725-b488-c301d7be0b07",
   "metadata": {},
   "outputs": [
    {
     "name": "stdout",
     "output_type": "stream",
     "text": [
      "true params: [ 0.06972301  0.12028243  0.06719489  0.128636    0.05470923  0.12565392\n",
      "  0.1363822   0.1063897   0.05683356  0.64331946 -0.51166094]\n",
      "optm params: [ 0.06956525  0.11898724  0.06695247  0.1277246   0.05391543  0.12539366\n",
      "  0.1362568   0.10498374  0.05361229  0.63907977 -0.51050947]\n",
      "fval: 1.9963638756911627e-05\n"
     ]
    }
   ],
   "source": [
    "res = scipy.optimize.least_squares(lambda x: CostFunc(x, T, K, v), init, \n",
    "                                   lambda x: Jacobian(x, T, K), bounds, gtol=1E-10)\n",
    "\n",
    "optm_params = res.x\n",
    "print('true params: ' + str(params_true))\n",
    "print('optm params: ' + str(optm_params))\n",
    "fval = res.fun\n",
    "print('fval: ' + str(np.sum(fval**2)))"
   ]
  },
  {
   "cell_type": "markdown",
   "id": "33c6971f-8d9a-4038-9b90-6aaeadb7153d",
   "metadata": {},
   "source": [
    "### check the quality of the reconstructed forward variance curve ..."
   ]
  },
  {
   "cell_type": "code",
   "execution_count": 13,
   "id": "9217a335-685a-43f4-b9db-7ec0e0aabef0",
   "metadata": {},
   "outputs": [
    {
     "data": {
      "image/png": "[encoded data removed]",
      "text/plain": [
       "<Figure size 432x288 with 1 Axes>"
      ]
     },
     "metadata": {
      "needs_background": "light"
     },
     "output_type": "display_data"
    }
   ],
   "source": [
    "xi_tim = [0.0, 0.0100, 0.0250, 0.1000, 0.3000, 0.6000, 1.0000, 1.5000, 2.0000, 2.500]\n",
    "xi_vec_true = np.array([el for lst in [[params_true[0]], params_true[:N_params_fvc], [params_true[N_params_fvc-1]]] for el in lst])\n",
    "xi_vec_optm = np.array([el for lst in [[optm_params[0]], optm_params[:N_params_fvc], [optm_params[N_params_fvc-1]]] for el in lst])\n",
    "plt.step(xi_tim, xi_vec_true, 'k.-', where='pre')\n",
    "plt.step(xi_tim, xi_vec_optm, 'y.-', where='pre')\n",
    "plt.show()"
   ]
  },
  {
   "cell_type": "markdown",
   "id": "b5ce914b-e0b4-458a-80a8-dfb21d63cdea",
   "metadata": {},
   "source": [
    "### ... and the fits to the market"
   ]
  },
  {
   "cell_type": "code",
   "execution_count": 14,
   "id": "1b9e02d8-ad7a-4af1-928a-ca7f369be56d",
   "metadata": {},
   "outputs": [],
   "source": [
    "NNvols = NNFun(optm_params, T, K)"
   ]
  },
  {
   "cell_type": "code",
   "execution_count": 15,
   "id": "1b5ce9fb-4268-4bea-88ae-a162d88a6580",
   "metadata": {},
   "outputs": [
    {
     "data": {
      "image/png": "[encoded data removed]",
      "text/plain": [
       "<Figure size 1008x864 with 11 Axes>"
      ]
     },
     "metadata": {
      "needs_background": "light"
     },
     "output_type": "display_data"
    }
   ],
   "source": [
    "plt.figure(1, figsize=(14,12))\n",
    "for i in range(N_times):\n",
    "    plt.subplot(4, 4, i+1)\n",
    "    \n",
    "    plt.plot(np.log(strikes[i]/spot), v[i*N_strikes:(i+1)*N_strikes], 'b'  , label=\"Input data\")\n",
    "    plt.plot(np.log(strikes[i]/spot), NNvols[i*N_strikes:(i+1)*N_strikes], '--r', label=\"NN Approx\" )\n",
    "        \n",
    "    plt.title(\"Maturity=%1.2f \"%np.unique(maturities[i]))\n",
    "    plt.xlabel(\"log-moneyness\")\n",
    "    plt.ylabel(\"Implied vol\")\n",
    "    \n",
    "    plt.legend()\n",
    "plt.tight_layout()\n",
    "plt.show()"
   ]
  },
  {
   "cell_type": "code",
   "execution_count": null,
   "id": "4b17542e-7d18-4d03-9b90-5b92bbd6cb74",
   "metadata": {},
   "outputs": [],
   "source": []
  }
 ],
 "metadata": {
  "kernelspec": {
   "display_name": "Python 3",
   "language": "python",
   "name": "python3"
  },
  "language_info": {
   "codemirror_mode": {
    "name": "ipython",
    "version": 3
   },
   "file_extension": ".py",
   "mimetype": "text/x-python",
   "name": "python",
   "nbconvert_exporter": "python",
   "pygments_lexer": "ipython3",
   "version": "3.8.10"
  }
 },
 "nbformat": 4,
 "nbformat_minor": 5
}
